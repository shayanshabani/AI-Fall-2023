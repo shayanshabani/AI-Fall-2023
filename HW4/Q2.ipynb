{
 "cells": [
  {
   "cell_type": "markdown",
   "metadata": {},
   "source": [
    "# <center>پیدا کردن ربات</center>\n",
    "\n",
    "<div dir=\"rtl\" style=\"font-size:18px\">\n",
    "احتمالا کارتون WALL-E را بخاطر دارید. رباتی که توانست زمین را نجات دهد و باقیمانده نسل انسان‌ها را به زمین برگرداند. پس از بازگشت انسان‌ها به زمین و پس از محبوبیت زیاد WALL-E، او دوستان زیادی پیدا کرد. بهترین دوست او WALL-F یکی از بازیگوش‌ترین ربات‌هایی است که تاحالا دیده‌اید.\n",
    "<br>\n",
    "یکی از دفعاتی که WALL-F به بیرون رفته بود، راهی به درون یک هزار‌تو میابد. تصویر زیر از او در این هزارتو گرفته شده است.\n",
    "</div>\n",
    "<br>\n",
    "<br>\n",
    "<center>\n",
    "\n",
    "![WALL-F Ai-Generated](Assets/robot.jpg)\n",
    "\n",
    "</center>"
   ]
  },
  {
   "cell_type": "markdown",
   "metadata": {},
   "source": [
    "<div dir=\"rtl\">\n",
    "در ادامه میخواهیم با روش‌های مختلفی پیدا کنیم که در حال حاضر ربات در چه خانه‌ای قرار دارد. در هرکدام از تست‌کیس‌هایی که لازم است بررسی کنید. خانه 0 و 0 خانه بالا و چپ هزارتو خواهد بود. در ادامه برای هر خانه مشخص خواهد شد که دیواری به هرکدام از جهات دارد یا خیر. \n",
    "به طور مثال عبارت\n",
    "''R L''\n",
    "به این معنی است که این خانه فقط به چپ و راست خود راه دارد. همچنین شماره‌گذاری خانه‌ها به صورت زیر است.\n",
    "در هر مرحله او به شما میگوید که در کدام خانه از جدول است. عددی که ربات به شما میگوید یک عدد تصادفی است که در یک ماتریس به شما داده میشود. عدد سطر \n",
    "$i$ \n",
    "و ستون \n",
    "$j$ \n",
    "احتمال این را نشان می‌دهد که ربات در خانه \n",
    "$i$ \n",
    "باشد اما خانه \n",
    "$j$ \n",
    "را شما گزارش دهد. این ربات در پایان هر مرحله با احتمال برابر به یکی از خانه‌های مجاور میرود. همینطور خانه شروع این ربات هم توزیعی یکنواخت دارد.\n",
    "</div>\n",
    "<br>\n",
    "<br>\n",
    "<center>\n",
    "\n",
    "![grid](Assets/grid.jpg)\n",
    "\n",
    "</center>"
   ]
  },
  {
   "cell_type": "markdown",
   "metadata": {},
   "source": [
    "<div dir=\"rtl\">\n",
    "در ابتدا برای پیاده‌سازی ۲ الگوریتمی که در ادامه خواهید دید به آبجکتی از نوع Grid نیاز خواهید داشت. عملکرد این آبجکت را میتوانید از مسیر Assets/helpers.py ببینید. به طور مثال هزارتو زیر را در نظر بگیرید.\n",
    "</div>\n",
    "\n",
    "<center>\n",
    "\n",
    "![maze](Assets/grid2.jpg)\n",
    "\n",
    "</center>"
   ]
  },
  {
   "cell_type": "markdown",
   "metadata": {},
   "source": [
    "<div dir=\"rtl\">\n",
    "grid متناظر با این هزارتو را میتوانید از طریق تابع get_sample_grid بگیرید و با توابع آن آشنا شوید. در صورت لزوم میتوانید هر تابع دلخواهی به این کلاس اضافه کنید. برای اطلاع از تعداد سطرهای grid میتوانید از grid.n و برای اطلاع از تعداد ستون‌ها میتوانید از grid.m استفاده کنید.\n",
    "</div>"
   ]
  },
  {
   "cell_type": "code",
   "execution_count": 44,
   "metadata": {},
   "outputs": [],
   "source": [
    "from Assets.helpers import get_sample_grid\n",
    "import numpy as np\n",
    "# 'name' = 'محمدشایان شعبانی'\n",
    "# 'student_number' = '400105069'"
   ]
  },
  {
   "cell_type": "code",
   "execution_count": 8,
   "metadata": {},
   "outputs": [],
   "source": [
    "grid = get_sample_grid()"
   ]
  },
  {
   "cell_type": "markdown",
   "metadata": {},
   "source": [
    "# Particle Filtering"
   ]
  },
  {
   "cell_type": "markdown",
   "metadata": {},
   "source": [
    "<div dir=\"rtl\">\n",
    "در این قسمت باید آخرین خانه‌ای که این ربات در آن قرار دارد را با استفاده از الگوریتم Particle Filtering پیدا کنید. برای اینکار در ابتدا تعداد Particle هایی با تعدادی از اردر تعداد خانه‌های هزارتو بسازید. در پایان هر مرحله جمعیت را با توجه به وزن آنها نصف کنید و ذراتی جدید متناسب با تعداد ذرات درون هرخانه بسازید. در پایان خانه‌ای که بیشترین ذرات در آن قرار دارد را برگردانید.\n",
    "</div>"
   ]
  },
  {
   "cell_type": "code",
   "execution_count": 18,
   "metadata": {},
   "outputs": [],
   "source": [
    "def PF(grid, prob, obs):\n",
    "    \"\"\"\n",
    "    input:\n",
    "\n",
    "    grid: object of type Grid\n",
    "    obs: array of ints, each one is an observation\n",
    "\n",
    "    output: \n",
    "    number of the last cell\n",
    "    \"\"\"\n",
    "    particles = np.random.randint(0, grid.m * grid.n, size = 11 * grid.m * grid.n)\n",
    "    for ob in obs:\n",
    "        for i in range(len(particles)):\n",
    "            choice = np.random.choice(grid.moves[particles[i] // grid.m][particles[i] % grid.m])\n",
    "            if choice == 'U':\n",
    "                particles[i] -= grid.m\n",
    "            elif choice == 'R':\n",
    "                particles[i] += 1\n",
    "            elif choice == 'D':\n",
    "                particles[i] += grid.m\n",
    "            elif choice == 'L':\n",
    "                particles[i] -= 1\n",
    "        weights = np.array([prob[particle, ob] for particle in particles])\n",
    "        weights /= sum(weights)\n",
    "        particles = np.random.choice(particles, size = 11 * grid.m * grid.n, p = weights)\n",
    "    particles_number = np.zeros(11 * grid.m * grid.n)\n",
    "    for particle in particles:\n",
    "        particles_number[particle] += 1\n",
    "    return particles_number.argmax()"
   ]
  },
  {
   "cell_type": "code",
   "execution_count": 19,
   "metadata": {},
   "outputs": [
    {
     "name": "stdout",
     "output_type": "stream",
     "text": [
      "PF PASSED!\n"
     ]
    }
   ],
   "source": [
    "from Assets.helpers import PF_checker\n",
    "PF_checker(PF)"
   ]
  },
  {
   "cell_type": "markdown",
   "metadata": {},
   "source": [
    "# HMM"
   ]
  },
  {
   "cell_type": "markdown",
   "metadata": {},
   "source": [
    "<div dir=\"rtl\">\n",
    "در این قسمت غیر از اینکه باید بفهمیم WALL-F در کدام خانه قرار دارد. میخواهیم بدانیم که محتمل‌ترین مسیری که طی کرده‌ است چه مسیری است. برای اینکار الگوریتم viterbi را پیاده‌سازی کنید.\n",
    "</div>"
   ]
  },
  {
   "cell_type": "code",
   "execution_count": 42,
   "metadata": {},
   "outputs": [],
   "source": [
    "def viterbi(grid, prob, obs):\n",
    "    num_cells = grid.m * grid.n\n",
    "    transition_mat = np.zeros((num_cells, num_cells))\n",
    "    for i in range(num_cells):\n",
    "        for j in grid.get_neighbors(i):\n",
    "            transition_mat[i, j] = 1\n",
    "        transition_mat[i] = transition_mat[i] / np.sum(transition_mat[i])\n",
    "    \"\"\"\n",
    "    input:\n",
    "\n",
    "    grid: object of type Grid\n",
    "    obs: array of ints, each one is an observation\n",
    "\n",
    "    output: \n",
    "    array of cell numbers, same shape as obs\n",
    "    \"\"\"\n",
    "    \n",
    "    num_observations = len(obs)\n",
    "    num_states = grid.m * grid.n\n",
    "\n",
    "    \n",
    "    state_probabilities = [[float(0) for i in range(num_states)] for i in range(num_observations)]\n",
    "\n",
    "    \n",
    "    arg_max_state = [[0 for i in range(num_states)] for i in range(num_observations)]\n",
    "\n",
    "    for i in range(len(obs)):\n",
    "        for state in range(grid.m * grid.n):\n",
    "            if i == 0:\n",
    "                state_probabilities[i][state] = prob[state][obs[i]]\n",
    "                state_probabilities[i][state] /= grid.m\n",
    "                state_probabilities[i][state] /= grid.n\n",
    "            else:\n",
    "                maximum = -1000000000\n",
    "                maximum_index = -1\n",
    "                for j in range(grid.m * grid.n):\n",
    "                    if state_probabilities[i - 1][j] * transition_mat[j, state] > maximum:\n",
    "                        maximum = state_probabilities[i - 1][j] * transition_mat[j, state]\n",
    "                        maximum_index = j\n",
    "                arg_max_state[i][state] = maximum_index\n",
    "                state_probabilities[i][state] = maximum * prob[state][obs[i]]\n",
    "    maximum = -1000000000\n",
    "    maximum_index = -1\n",
    "    for j in range(grid.m * grid.n):\n",
    "        if state_probabilities[-1][j] > maximum:\n",
    "            maximum = state_probabilities[-1][j]\n",
    "            maximum_index = j\n",
    "    dp = [maximum_index]\n",
    "    for i in range(len(obs) - 1, 0, -1):\n",
    "        dp.append(arg_max_state[i][dp[-1]])\n",
    "    dp.reverse()\n",
    "    return dp"
   ]
  },
  {
   "cell_type": "code",
   "execution_count": 43,
   "metadata": {},
   "outputs": [
    {
     "name": "stdout",
     "output_type": "stream",
     "text": [
      "VITERBI PASSED!\n"
     ]
    }
   ],
   "source": [
    "from Assets.helpers import viterbi_checker\n",
    "viterbi_checker(viterbi)"
   ]
  },
  {
   "cell_type": "code",
   "execution_count": null,
   "metadata": {},
   "outputs": [],
   "source": []
  }
 ],
 "metadata": {
  "kernelspec": {
   "display_name": "Python 3 (ipykernel)",
   "language": "python",
   "name": "python3"
  },
  "language_info": {
   "codemirror_mode": {
    "name": "ipython",
    "version": 3
   },
   "file_extension": ".py",
   "mimetype": "text/x-python",
   "name": "python",
   "nbconvert_exporter": "python",
   "pygments_lexer": "ipython3",
   "version": "3.10.9"
  }
 },
 "nbformat": 4,
 "nbformat_minor": 2
}
